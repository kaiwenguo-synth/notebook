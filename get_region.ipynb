{
 "cells": [
  {
   "cell_type": "code",
   "execution_count": 2,
   "metadata": {},
   "outputs": [
    {
     "name": "stdout",
     "output_type": "stream",
     "text": [
      "eu-north-1\n"
     ]
    }
   ],
   "source": [
    "from datalib.aws.sts import get_current_region\n",
    "\n",
    "region = get_current_region()\n",
    "print(region)"
   ]
  },
  {
   "cell_type": "code",
   "execution_count": 6,
   "metadata": {},
   "outputs": [
    {
     "name": "stdout",
     "output_type": "stream",
     "text": [
      "eu-north-1\n"
     ]
    }
   ],
   "source": [
    "from botocore.utils import InstanceMetadataRegionFetcher\n",
    "\n",
    "region_name = InstanceMetadataRegionFetcher(num_attempts=999).retrieve_region()\n",
    "print(region_name)"
   ]
  },
  {
   "cell_type": "code",
   "execution_count": 2,
   "metadata": {},
   "outputs": [
    {
     "name": "stdout",
     "output_type": "stream",
     "text": [
      "None\n"
     ]
    }
   ],
   "source": [
    "import boto3\n",
    "\n",
    "region_name = boto3.session.Session().region_name\n",
    "print(region_name)"
   ]
  }
 ],
 "metadata": {
  "kernelspec": {
   "display_name": ".venv",
   "language": "python",
   "name": "python3"
  },
  "language_info": {
   "codemirror_mode": {
    "name": "ipython",
    "version": 3
   },
   "file_extension": ".py",
   "mimetype": "text/x-python",
   "name": "python",
   "nbconvert_exporter": "python",
   "pygments_lexer": "ipython3",
   "version": "3.12.10"
  }
 },
 "nbformat": 4,
 "nbformat_minor": 2
}
