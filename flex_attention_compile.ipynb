{
 "cells": [
  {
   "cell_type": "code",
   "execution_count": 6,
   "metadata": {},
   "outputs": [],
   "source": [
    "import os\n",
    "import torch\n",
    "from torch.nn.attention.flex_attention import flex_attention\n",
    "\n",
    "os.environ[\"TORCH_LOGS\"] = \"+dynamo,+inductor\"\n",
    "\n",
    "flex_attention = torch.compile(flex_attention, fullgraph=True, mode=\"max-autotune\")"
   ]
  },
  {
   "cell_type": "code",
   "execution_count": 9,
   "metadata": {},
   "outputs": [
    {
     "name": "stdout",
     "output_type": "stream",
     "text": [
      "<function explain.<locals>.inner at 0x7848ee96b2e0>\n"
     ]
    }
   ],
   "source": [
    "import torch._dynamo as dynamo\n",
    "\n",
    "# This will show you what's happening during compilation\n",
    "explanation = dynamo.explain(flex_attention)\n",
    "print(explanation)\n",
    "print(f\"Graph breaks: {explanation.graph_break_count}\")\n",
    "print(f\"Ops in graph: {explanation.op_count}\")"
   ]
  }
 ],
 "metadata": {
  "kernelspec": {
   "display_name": ".venv",
   "language": "python",
   "name": "python3"
  },
  "language_info": {
   "codemirror_mode": {
    "name": "ipython",
    "version": 3
   },
   "file_extension": ".py",
   "mimetype": "text/x-python",
   "name": "python",
   "nbconvert_exporter": "python",
   "pygments_lexer": "ipython3",
   "version": "3.12.10"
  }
 },
 "nbformat": 4,
 "nbformat_minor": 2
}
