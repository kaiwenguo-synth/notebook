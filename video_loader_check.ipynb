{
 "cells": [
  {
   "cell_type": "code",
   "execution_count": 2,
   "metadata": {},
   "outputs": [
    {
     "name": "stderr",
     "output_type": "stream",
     "text": [
      "S3ConnectorError: Head Object error\n",
      "LOG: ERROR could not open the file s3://synthesia-rnd-dataops-prd-datalake/processed/ingest_v2_youtube/synthesia-rnd-videotranscoder/transcoded/synthesia_id-100685e4-e48b-82b7-5515-481a5ca22adc.webm\n"
     ]
    },
    {
     "ename": "RuntimeError",
     "evalue": "ERROR could not open the file",
     "output_type": "error",
     "traceback": [
      "\u001b[31m---------------------------------------------------------------------------\u001b[39m",
      "\u001b[31mRuntimeError\u001b[39m                              Traceback (most recent call last)",
      "\u001b[36mCell\u001b[39m\u001b[36m \u001b[39m\u001b[32mIn[2]\u001b[39m\u001b[32m, line 5\u001b[39m\n\u001b[32m      3\u001b[39m \u001b[38;5;66;03m# video_file = \"s3://synthesia-rnd-eun1-dataops-prd-datalake/processed/ingest_v2_youtube/synthesia-rnd-videotranscoder/transcoded/synthesia_id-100685e4-e48b-82b7-5515-481a5ca22adc.webm\"\u001b[39;00m\n\u001b[32m      4\u001b[39m video_file = \u001b[33m\"\u001b[39m\u001b[33ms3://synthesia-rnd-dataops-prd-datalake/processed/ingest_v2_youtube/synthesia-rnd-videotranscoder/transcoded/synthesia_id-100685e4-e48b-82b7-5515-481a5ca22adc.webm\u001b[39m\u001b[33m\"\u001b[39m\n\u001b[32m----> \u001b[39m\u001b[32m5\u001b[39m video = \u001b[43mvideo_loader\u001b[49m\u001b[43m.\u001b[49m\u001b[43mDecoder\u001b[49m\u001b[43m(\u001b[49m\u001b[38;5;28;43mstr\u001b[39;49m\u001b[43m(\u001b[49m\u001b[43mvideo_file\u001b[49m\u001b[43m)\u001b[49m\u001b[43m)\u001b[49m\n",
      "\u001b[31mRuntimeError\u001b[39m: ERROR could not open the file"
     ]
    }
   ],
   "source": [
    "import video_loader\n",
    "\n",
    "# video_file = \"s3://synthesia-rnd-eun1-dataops-prd-datalake/processed/ingest_v2_youtube/synthesia-rnd-videotranscoder/transcoded/synthesia_id-100685e4-e48b-82b7-5515-481a5ca22adc.webm\"\n",
    "video_file = \"s3://synthesia-rnd-dataops-prd-datalake/processed/ingest_v2_youtube/synthesia-rnd-videotranscoder/transcoded/synthesia_id-100685e4-e48b-82b7-5515-481a5ca22adc.webm\"\n",
    "video = video_loader.Decoder(str(video_file))"
   ]
  }
 ],
 "metadata": {
  "kernelspec": {
   "display_name": ".venv",
   "language": "python",
   "name": "python3"
  },
  "language_info": {
   "codemirror_mode": {
    "name": "ipython",
    "version": 3
   },
   "file_extension": ".py",
   "mimetype": "text/x-python",
   "name": "python",
   "nbconvert_exporter": "python",
   "pygments_lexer": "ipython3",
   "version": "3.12.10"
  }
 },
 "nbformat": 4,
 "nbformat_minor": 2
}
