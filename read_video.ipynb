{
 "cells": [
  {
   "cell_type": "code",
   "execution_count": 5,
   "metadata": {},
   "outputs": [
    {
     "name": "stderr",
     "output_type": "stream",
     "text": [
      "Downloading files: 100%|██████████| 148/148 [00:39<00:00,  3.78it/s]\n"
     ]
    }
   ],
   "source": [
    "from datalib import InputPath\n",
    "import polars as pl\n",
    "\n",
    "snapshot_path = InputPath(\"s3://synthesia-rnd-dataops-prd-datalake/dataset-snapshots/data/snapshot_24f3bd96_f40f_4737_9d2b_656a88bcdcf8\").resolve()\n",
    "snapshot_files = snapshot_path / \"**/*.parquet\"\n",
    "df = pl.scan_parquet(snapshot_files.resolve())"
   ]
  },
  {
   "cell_type": "code",
   "execution_count": 7,
   "metadata": {},
   "outputs": [
    {
     "name": "stdout",
     "output_type": "stream",
     "text": [
      "['synthesia_id', 'clip_id', 'clip_type', 'c_start_frame', 'c_end_frame', 'c_duration_s', 'c_frame_rate', 'c_video_width', 'c_video_height', 'camera', 'video_s3_path', 'audio_embedding_s3_path', 'landmarks_s3_path', 'landmarks_3d_s3_path', 'calibration_s3_path', 'hand_tracking_s3_path', 'eyelandmarks_s3_path', 'video_weka_path', 'landmarks_weka_path', 'audio_embedding_weka_path', 'landmarks_3d_weka_path', 'calibration_weka_path', 'hand_tracking_weka_path', 'eyelandmarks_weka_path', 'split']\n"
     ]
    },
    {
     "name": "stderr",
     "output_type": "stream",
     "text": [
      "/tmp/ipykernel_3140491/3190591361.py:1: PerformanceWarning: Determining the column names of a LazyFrame requires resolving its schema, which is a potentially expensive operation. Use `LazyFrame.collect_schema().names()` to get the column names without this warning.\n",
      "  print(df.columns)\n"
     ]
    }
   ],
   "source": [
    "print(df.columns)"
   ]
  }
 ],
 "metadata": {
  "kernelspec": {
   "display_name": ".venv",
   "language": "python",
   "name": "python3"
  },
  "language_info": {
   "codemirror_mode": {
    "name": "ipython",
    "version": 3
   },
   "file_extension": ".py",
   "mimetype": "text/x-python",
   "name": "python",
   "nbconvert_exporter": "python",
   "pygments_lexer": "ipython3",
   "version": "3.12.10"
  }
 },
 "nbformat": 4,
 "nbformat_minor": 2
}
