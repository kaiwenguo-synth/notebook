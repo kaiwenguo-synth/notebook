{
 "cells": [
  {
   "cell_type": "code",
   "execution_count": 2,
   "metadata": {},
   "outputs": [
    {
     "name": "stderr",
     "output_type": "stream",
     "text": [
      "Downloading files: 100%|██████████| 3/3 [00:00<00:00,  5.02it/s]\n",
      "Downloading files: 100%|██████████| 3/3 [00:00<00:00,  5.29it/s]"
     ]
    },
    {
     "name": "stdout",
     "output_type": "stream",
     "text": [
      "['snapshot_creation_repo', 'synthesia_id', 'dataset_name', 'clip_type', 'c_video_width', 'c_video_height', 'c_frame_rate', 'talent_id', 'audio_embedding_s3_path', 'video_s3_path', 'landmarks_s3_path', 'eyelandmarks_s3_path', 'hand_tracking_s3_path', 'audio_end_timestamp', 'hand_tracking_weka_path', 'landmarks_weka_path', 'audio_embedding_weka_path', 'eyelandmarks_weka_path', 'video_weka_path', 'camera', 'content', 'body_motions', 'script_emotions', 'props', 'selects', 'landmarks_3d_s3_path', 'calibration_s3_path', 'landmarks_3d_weka_path', 'calibration_weka_path', 'script_type', 'scene_type', 'filename', 'clip_id', 'c_start_frame', 'c_end_frame', 'c_duration_s']\n"
     ]
    },
    {
     "name": "stderr",
     "output_type": "stream",
     "text": [
      "\n",
      "/tmp/ipykernel_440301/545463216.py:41: PerformanceWarning: Determining the column names of a LazyFrame requires resolving its schema, which is a potentially expensive operation. Use `LazyFrame.collect_schema().names()` to get the column names without this warning.\n",
      "  print(df.columns)\n"
     ]
    },
    {
     "data": {
      "text/plain": [
       "['s3://synthesia-rnd-dataops-prd-datalake/processed/lvm_video_dataset_ingest/finetuning_video_datasets/dit/stock_personal_avatar_01_2025/GeorginaKJ_snapshot_2_v2/version=0/synthesia-rnd-data-ingest-tracking/refined_landmarks/synthesia_id-25cea141-5557-6f5b-c309-b97bb6731958.safetensors',\n",
       " 's3://synthesia-rnd-dataops-prd-datalake/processed/lvm_video_dataset_ingest/finetuning_video_datasets/dit/stock_personal_avatar_01_2025/GeorginaKJ_snapshot_2_v2/version=0/synthesia-rnd-data-ingest-tracking/refined_landmarks/synthesia_id-f1281efb-8416-9202-3885-67f8664e093e.safetensors']"
      ]
     },
     "execution_count": 2,
     "metadata": {},
     "output_type": "execute_result"
    }
   ],
   "source": [
    "from datalib import InputPath\n",
    "import polars as pl\n",
    "\n",
    "snapshot_file = InputPath(\n",
    "    \"s3://synthesia-rnd-dataops-prd-datalake/dataset-snapshots/data/snapshot_3aa5c993_6412_4d85_b264_9931d37e6ba4\"\n",
    ").resolve()  # ryan_1\n",
    "\n",
    "# snapshot_file = InputPath(\n",
    "#     \"s3://synthesia-rnd-dataops-prd-datalake/dataset-snapshots/data/snapshot_4deda56c_f62a_40b6_9ecf_eb91234b45fe\"\n",
    "# ).resolve()  # ryan_2\n",
    "\n",
    "# snapshot_file = InputPath(\n",
    "#     \"s3://synthesia-rnd-dataops-prd-datalake/dataset-snapshots/data/snapshot_05c2a33f_c468_4a84_be06_57a937d968d3\"\n",
    "# ).resolve()  # alex_m_1\n",
    "\n",
    "# snapshot_file = InputPath(\n",
    "#     \"s3://synthesia-rnd-dataops-prd-datalake/dataset-snapshots/data/snapshot_8b5d9df7_ad4b_4b16_8a7b_6f3541362805\"\n",
    "# ).resolve()  # amanda_1_v2\n",
    "\n",
    "# snapshot_file = InputPath(\n",
    "#     \"s3://synthesia-rnd-dataops-prd-datalake/dataset-snapshots/data/snapshot_d3464cec_4596_4f8b_9af0_91dae91deecf\"\n",
    "# ).resolve()  # amanda_4_v2\n",
    "\n",
    "# snapshot_file = InputPath(\n",
    "#     \"s3://synthesia-rnd-dataops-prd-datalake/dataset-snapshots/data/snapshot_08da43e7_8ef7_4454_948f_03d440fbc3c3\"\n",
    "# ).resolve()  # joshua_1\n",
    "\n",
    "# snapshot_file = InputPath(\n",
    "#     \"s3://synthesia-rnd-dataops-prd-datalake/dataset-snapshots/data/snapshot_c4b11b07_75dc_4607_8566_7ee0482082b5\"\n",
    "# ).resolve()  # ada_1\n",
    "\n",
    "snapshot_file = InputPath(\n",
    "    \"s3://synthesia-rnd-dataops-prd-datalake/dataset-snapshots/data/snapshot_1b5a0bfe_73d4_44cb_aa60_6018e475208b\"\n",
    ").resolve()  # ada_2_v2\n",
    "\n",
    "# snapshot_file = InputPath(\n",
    "#     \"s3://synthesia-rnd-dataops-prd-datalake/dataset-snapshots/data/snapshot_3de594d4_c1d8_4565_88ee_f8657831e0d5\"\n",
    "# ).resolve()  # nelly_jude_2_v3\n",
    "\n",
    "df = pl.scan_parquet(snapshot_file / \"**/*.parquet\")\n",
    "print(df.columns)\n",
    "df = df.select([\"clip_id\", \"video_s3_path\", \"landmarks_s3_path\"]).collect()\n",
    "# df[\"clip_id\"].to_list()\n",
    "# df[\"video_s3_path\"].to_list()\n",
    "df[\"landmarks_s3_path\"].to_list()"
   ]
  },
  {
   "cell_type": "code",
   "execution_count": 8,
   "metadata": {},
   "outputs": [
    {
     "name": "stdout",
     "output_type": "stream",
     "text": [
      "num_frames: 2321, video_width: 1920, video_height: 1080\n"
     ]
    },
    {
     "name": "stderr",
     "output_type": "stream",
     "text": [
      "LOG: WARNING Frame has unexpected PTS value: 77411, expected: 3600000000\n"
     ]
    }
   ],
   "source": [
    "from datalib import InputPath\n",
    "from video_loader import Decoder\n",
    "\n",
    "video_file = InputPath(\n",
    "    \"s3://synthesia-rnd-eun1-dataops-prd-datalake/processed/lvm_video_dataset_ingest/finetuning_video_datasets/dit/stock_personal_avatar_01_2025/Ava_snapshot_4_v2/version=0/synthesia-rnd-videotranscoder/transcoded/synthesia_id-2e92d8af-e343-b1d5-6a93-b4b81e76bf5f.webm\"\n",
    ")\n",
    "decoder = Decoder(str(video_file))\n",
    "num_frames = decoder.estimated_num_frames\n",
    "video_width = decoder.output_width\n",
    "video_height = decoder.output_height\n",
    "print(f\"num_frames: {num_frames}, video_width: {video_width}, video_height: {video_height}\")"
   ]
  }
 ],
 "metadata": {
  "kernelspec": {
   "display_name": ".venv",
   "language": "python",
   "name": "python3"
  },
  "language_info": {
   "codemirror_mode": {
    "name": "ipython",
    "version": 3
   },
   "file_extension": ".py",
   "mimetype": "text/x-python",
   "name": "python",
   "nbconvert_exporter": "python",
   "pygments_lexer": "ipython3",
   "version": "3.12.10"
  }
 },
 "nbformat": 4,
 "nbformat_minor": 2
}
