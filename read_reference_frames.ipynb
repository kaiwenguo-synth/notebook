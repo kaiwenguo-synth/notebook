{
 "cells": [
  {
   "cell_type": "code",
   "execution_count": 14,
   "metadata": {},
   "outputs": [
    {
     "name": "stderr",
     "output_type": "stream",
     "text": [
      "Downloading files: 100%|██████████| 6/6 [00:01<00:00,  4.12it/s]"
     ]
    },
    {
     "name": "stdout",
     "output_type": "stream",
     "text": [
      "s3://synthesia-rnd-dataops-prd-datalake/processed/youtube_human_activity_rml/synthesia-rnd-videotranscoder/transcoded/created_at=20241125/synthesia_id-e0ceafda-ca8d-db35-10c1-d0f99b91f3d5.webm\n"
     ]
    },
    {
     "name": "stderr",
     "output_type": "stream",
     "text": [
      "\n"
     ]
    }
   ],
   "source": [
    "import os\n",
    "\n",
    "os.environ[\"SYNTHESIA_CLOUD_ENVIRONMENT\"] = \"aws\"\n",
    "os.environ[\"SYNTHESIA_WD\"] = \"/scratch/tmp_kaiwenguo\"\n",
    "\n",
    "from datalib import InputPath\n",
    "import polars as pl\n",
    "\n",
    "\n",
    "snapshot_file = InputPath(\n",
    "    \"s3://synthesia-rnd-dataops-prd-datalake/dataset-snapshots/data/snapshot_2e2aa75c_af3f_4820_b9bb_c9d437f038b9\"\n",
    ").resolve()\n",
    "\n",
    "snapshot_df = pl.scan_parquet(snapshot_file / \"**/*.parquet\")\n",
    "snapshot_df = snapshot_df.select(pl.col(\"video_s3_path\")).head(1)\n",
    "snapshot_df = snapshot_df.collect()\n",
    "print(snapshot_df[\"video_s3_path\"][0])"
   ]
  },
  {
   "cell_type": "code",
   "execution_count": 26,
   "metadata": {},
   "outputs": [
    {
     "name": "stderr",
     "output_type": "stream",
     "text": [
      "LOG: WARNING Frame has unexpected PTS value: 652920, expected: 3600000000\n"
     ]
    }
   ],
   "source": [
    "import sys\n",
    "\n",
    "sys.path.append(\"/home/kaiwenguo/dev/rnd-ditwo-reference-cond/src\")\n",
    "\n",
    "from datalib import InputPath\n",
    "\n",
    "from ditwo.configs.config_dataclasses import DiTTrainingConfig, InferenceConfig\n",
    "from ditwo.eval.inference import get_dataset\n",
    "\n",
    "training_config = DiTTrainingConfig()\n",
    "inference_config = InferenceConfig()\n",
    "dataset_config = training_config.dataset_config\n",
    "video_path = InputPath(\n",
    "    \"s3://synthesia-rnd-eun1-dataops-prd-datalake/processed/youtube_human_activity_rml/synthesia-rnd-videotranscoder/transcoded/created_at=20241125/synthesia_id-e0ceafda-ca8d-db35-10c1-d0f99b91f3d5.webm\"\n",
    ").resolve()\n",
    "\n",
    "frames_dataset = get_dataset(\n",
    "    dataset_config=dataset_config.model_copy(\n",
    "        update={\n",
    "            \"n_frames\": 1,\n",
    "            \"n_reference_frames\": 3,\n",
    "            \"dataset_layers\": [\n",
    "                \"random-reference-frames\",\n",
    "                \"resize-frames\",\n",
    "                \"convert-to-rgb-tensor\",\n",
    "                \"center-crop-frames\",\n",
    "                \"retry\",\n",
    "            ],\n",
    "        }\n",
    "    ),\n",
    "    video_path=video_path,\n",
    "    load_frames=True,\n",
    "    seed=inference_config.seed,\n",
    "    remove_layers=[\n",
    "        \"skeleton-data\",\n",
    "        \"cpu-rendered-dwpose\",\n",
    "    ],\n",
    ")"
   ]
  },
  {
   "cell_type": "code",
   "execution_count": 28,
   "metadata": {},
   "outputs": [],
   "source": [
    "all_clip_ids = list(frames_dataset.get_frames_dataset().metadata_per_id.keys())\n",
    "clip_id = all_clip_ids[0]"
   ]
  },
  {
   "cell_type": "code",
   "execution_count": 40,
   "metadata": {},
   "outputs": [
    {
     "name": "stdout",
     "output_type": "stream",
     "text": [
      "torch.Size([3, 3, 480, 832])\n"
     ]
    }
   ],
   "source": [
    "batch = frames_dataset.get_test_item(clip_id, frames_index=[0])\n",
    "print(batch.reference_frames.shape)"
   ]
  }
 ],
 "metadata": {
  "kernelspec": {
   "display_name": ".venv",
   "language": "python",
   "name": "python3"
  },
  "language_info": {
   "codemirror_mode": {
    "name": "ipython",
    "version": 3
   },
   "file_extension": ".py",
   "mimetype": "text/x-python",
   "name": "python",
   "nbconvert_exporter": "python",
   "pygments_lexer": "ipython3",
   "version": "3.12.10"
  }
 },
 "nbformat": 4,
 "nbformat_minor": 2
}
